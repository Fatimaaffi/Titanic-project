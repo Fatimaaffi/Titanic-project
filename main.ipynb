{
 "cells": [
  {
   "cell_type": "code",
   "execution_count": 63,
   "id": "158d511b",
   "metadata": {},
   "outputs": [],
   "source": [
    "import pandas as pd\n",
    "import numpy as np\n",
    "%matplotlib inline\n",
    "\n",
    "import matplotlib.pyplot as plt\n",
    "\n",
    "\n",
    "\n",
    "\n"
   ]
  },
  {
   "cell_type": "code",
   "execution_count": 64,
   "id": "2c43a947",
   "metadata": {},
   "outputs": [],
   "source": [
    "titanic_train=pd.read_csv(\"train.csv\")\n",
    "titanic_test=pd.read_csv(\"test.csv\")\n"
   ]
  },
  {
   "cell_type": "code",
   "execution_count": 65,
   "id": "5889209a",
   "metadata": {},
   "outputs": [
    {
     "data": {
      "text/plain": [
       "PassengerId      0\n",
       "Survived         0\n",
       "Pclass           0\n",
       "Name             0\n",
       "Sex              0\n",
       "Age            177\n",
       "SibSp            0\n",
       "Parch            0\n",
       "Ticket           0\n",
       "Fare             0\n",
       "Cabin          687\n",
       "Embarked         2\n",
       "dtype: int64"
      ]
     },
     "execution_count": 65,
     "metadata": {},
     "output_type": "execute_result"
    }
   ],
   "source": [
    "titanic_train.isna().sum()\n"
   ]
  },
  {
   "cell_type": "code",
   "execution_count": 67,
   "id": "49caf611",
   "metadata": {},
   "outputs": [
    {
     "data": {
      "text/plain": [
       "PassengerId      int64\n",
       "Survived         int64\n",
       "Pclass           int64\n",
       "Name            object\n",
       "Sex             object\n",
       "Age            float64\n",
       "SibSp            int64\n",
       "Parch            int64\n",
       "Ticket          object\n",
       "Fare           float64\n",
       "Cabin           object\n",
       "Embarked        object\n",
       "dtype: object"
      ]
     },
     "execution_count": 67,
     "metadata": {},
     "output_type": "execute_result"
    }
   ],
   "source": [
    "titanic_train.dtypes"
   ]
  },
  {
   "cell_type": "code",
   "execution_count": null,
   "id": "fbcfb957",
   "metadata": {},
   "outputs": [
    {
     "name": "stderr",
     "output_type": "stream",
     "text": [
      "<>:14: SyntaxWarning: invalid escape sequence '\\.'\n",
      "<>:14: SyntaxWarning: invalid escape sequence '\\.'\n",
      "C:\\Users\\effi\\AppData\\Local\\Temp\\ipykernel_6128\\1814010786.py:14: SyntaxWarning: invalid escape sequence '\\.'\n",
      "  X_copy['Title'] = X_copy['Name'].str.extract(' ([A-Za-z]+)\\.', expand=False)\n"
     ]
    }
   ],
   "source": [
    "\n",
    "import numpy as np\n",
    "from sklearn.base import BaseEstimator, TransformerMixin\n",
    "\n",
    "# Custom Transformer to perform Feature Engineering\n",
    "class FeatureEngineer(BaseEstimator, TransformerMixin):\n",
    "    def fit(self, X, y=None):\n",
    "        return self\n",
    "\n",
    "    def transform(self, X):\n",
    "      \n",
    "        X_copy = X.copy()\n",
    "\n",
    "     \n",
    "        X_copy['Title'] = X_copy['Name'].str.extract(' ([A-Za-z]+)\\.', expand=False)\n",
    "        # Group rare titles\n",
    "        rare_titles = ['Lady', 'Countess','Capt', 'Col','Don', 'Dr', 'Major', 'Rev', 'Sir', 'Jonkheer', 'Dona']\n",
    "        X_copy['Title'] = X_copy['Title'].replace(rare_titles, 'Rare')\n",
    "        X_copy['Title'] = X_copy['Title'].replace(['Mlle', 'Ms'], 'Miss')\n",
    "        X_copy['Title'] = X_copy['Title'].replace('Mme', 'Mrs')\n",
    "\n",
    "       \n",
    "        bins = [0, 15, 25, 45, 65, 100]\n",
    "        labels = ['Child', 'YoungAdult', 'Adult', 'Senior', 'Elderly']\n",
    "   \n",
    "        X_copy['AgeGroup'] = pd.cut(X_copy['Age'], bins=bins, labels=labels, right=False)\n",
    "\n",
    "       \n",
    "        X_copy = X_copy.drop('Name', axis=1)\n",
    "\n",
    "        return X_copy"
   ]
  },
  {
   "cell_type": "code",
   "execution_count": 68,
   "id": "f6c97e2e",
   "metadata": {},
   "outputs": [],
   "source": [
    "\n",
    "from sklearn.pipeline import Pipeline\n",
    "###\n",
    "from sklearn.compose import ColumnTransformer\n",
    "# Import SimpleImputer from sklearn's impute module\n",
    "###\n",
    "from sklearn.impute import SimpleImputer\n",
    "# Import OneHotEncoder from sklearn's preprocessing module\n",
    "###\n",
    "from sklearn.preprocessing import OneHotEncoder"
   ]
  },
  {
   "cell_type": "code",
   "execution_count": 99,
   "id": "9fbb3b89",
   "metadata": {},
   "outputs": [],
   "source": [
    "categorical_features = [\"Cabin\", \"Embarked\",\"Sex\"]\n",
    "\n",
    "# Create categorical transformer Pipeline\n",
    "categorical_transformer = Pipeline(steps=[\n",
    "    # Set SimpleImputer strategy to \"constant\" and fill value to \"missing\"\n",
    "    (\"imputer\", SimpleImputer(strategy=\"constant\", fill_value=\"missing\")),\n",
    "    # Set OneHotEncoder to ignore the unknowns\n",
    "    (\"onehot\", OneHotEncoder(handle_unknown=\"ignore\"))])"
   ]
  },
  {
   "cell_type": "code",
   "execution_count": 100,
   "id": "fc0936c1",
   "metadata": {},
   "outputs": [],
   "source": [
    "# Define numeric features (only the Odometer (KM) column)\n",
    "numeric_features = [\"Age\",\"Pclass\",\"SibSp\",\"Parch\",\"Fare\"]\n",
    "\n",
    "# Crearte numeric transformer Pipeline\n",
    "numeric_transformer = Pipeline(steps=[\n",
    "    # Set SimpleImputer strategy to fill missing values with the \"Median\"\n",
    "    (\"imputer\", SimpleImputer(strategy=\"median\"))])"
   ]
  },
  {
   "cell_type": "code",
   "execution_count": 101,
   "id": "d411065d",
   "metadata": {},
   "outputs": [],
   "source": [
    "preprocessor = ColumnTransformer(\n",
    "    transformers=[\n",
    "        # Use the categorical_transformer to transform the categorical_features\n",
    "        (\"cat\", categorical_transformer,categorical_features),\n",
    "        (\"num\", numeric_transformer, numeric_features)])"
   ]
  },
  {
   "cell_type": "code",
   "execution_count": 102,
   "id": "e678d41b",
   "metadata": {},
   "outputs": [],
   "source": [
    "from sklearn.ensemble import RandomForestClassifier\n",
    "from sklearn.svm import LinearSVC\n",
    "# Import KNeighborsClassifier from sklearn's neighbors module\n",
    "###\n",
    "from sklearn.neighbors import KNeighborsClassifier\n",
    "# Import SVC from sklearn's svm module\n",
    "###\n",
    "from sklearn.svm import SVC\n",
    "# Import LogisticRegression from sklearn's linear_model module\n",
    "###\n",
    "from sklearn.linear_model import LogisticRegression"
   ]
  },
  {
   "cell_type": "code",
   "execution_count": 103,
   "id": "a8069471",
   "metadata": {},
   "outputs": [],
   "source": [
    "models = {\"LinearSVC\": LinearSVC(),\n",
    "          \"KNN\": KNeighborsClassifier(),\n",
    "          \"SVC\": SVC(),\n",
    "          \"LogisticRegression\": LogisticRegression(),\n",
    "          \"RandomForestClassifier\": RandomForestClassifier()}\n",
    "results={}"
   ]
  },
  {
   "cell_type": "code",
   "execution_count": 104,
   "id": "80a3cf2d",
   "metadata": {},
   "outputs": [],
   "source": [
    "# Create X (all columns except target)\n",
    "X = titanic_train.drop('Survived',axis=1)\n",
    "\n",
    "# Create y (only the target column)\n",
    "y = titanic_train['Survived']"
   ]
  },
  {
   "cell_type": "code",
   "execution_count": 105,
   "id": "1c31e230",
   "metadata": {},
   "outputs": [],
   "source": [
    "\n",
    "from sklearn.model_selection import train_test_split \n",
    "X_train, X_test, y_train, y_test = train_test_split(X,y,test_size=0.2,random_state=42)"
   ]
  },
  {
   "cell_type": "code",
   "execution_count": 106,
   "id": "bd7307bf",
   "metadata": {},
   "outputs": [
    {
     "name": "stdout",
     "output_type": "stream",
     "text": [
      "Fitting LinearSVC...\n",
      "Scoring LinearSVC...\n",
      "Fitting KNN...\n",
      "Scoring KNN...\n",
      "Fitting SVC...\n",
      "Scoring SVC...\n",
      "Fitting LogisticRegression...\n",
      "Scoring LogisticRegression...\n",
      "Fitting RandomForestClassifier...\n"
     ]
    },
    {
     "name": "stderr",
     "output_type": "stream",
     "text": [
      "c:\\Users\\effi\\Desktop\\titanic\\titanic_env\\Lib\\site-packages\\sklearn\\linear_model\\_logistic.py:473: ConvergenceWarning: lbfgs failed to converge after 100 iteration(s) (status=1):\n",
      "STOP: TOTAL NO. OF ITERATIONS REACHED LIMIT\n",
      "\n",
      "Increase the number of iterations to improve the convergence (max_iter=100).\n",
      "You might also want to scale the data as shown in:\n",
      "    https://scikit-learn.org/stable/modules/preprocessing.html\n",
      "Please also refer to the documentation for alternative solver options:\n",
      "    https://scikit-learn.org/stable/modules/linear_model.html#logistic-regression\n",
      "  n_iter_i = _check_optimize_result(\n"
     ]
    },
    {
     "name": "stdout",
     "output_type": "stream",
     "text": [
      "Scoring RandomForestClassifier...\n"
     ]
    }
   ],
   "source": [
    "np.random.seed(42)\n",
    "for model_name, model in models.items():\n",
    "    \n",
    "    # Create a model Pipeline with a preprocessor step and model step\n",
    "    model_pipeline = Pipeline(steps=[(\"preprocessor\", preprocessor),\n",
    "                                      (\"model\", model)])\n",
    "    \n",
    "    # Fit the model Pipeline to the car sales training data\n",
    "    print(f\"Fitting {model_name}...\")\n",
    "    model_pipeline.fit(X_train, y_train)\n",
    "    \n",
    "    # Score the model Pipeline on the test data appending the model_name to the \n",
    "    # results dictionary\n",
    "    print(f\"Scoring {model_name}...\")\n",
    "    results[model_name] = model_pipeline.score(X_test, \n",
    "                                                    y_test)"
   ]
  },
  {
   "cell_type": "code",
   "execution_count": 107,
   "id": "22b65a02",
   "metadata": {},
   "outputs": [
    {
     "data": {
      "text/plain": [
       "{'LinearSVC': 0.7932960893854749,\n",
       " 'KNN': 0.7206703910614525,\n",
       " 'SVC': 0.659217877094972,\n",
       " 'LogisticRegression': 0.8100558659217877,\n",
       " 'RandomForestClassifier': 0.7877094972067039}"
      ]
     },
     "execution_count": 107,
     "metadata": {},
     "output_type": "execute_result"
    }
   ],
   "source": [
    "results"
   ]
  },
  {
   "cell_type": "code",
   "execution_count": 108,
   "id": "75b93e64",
   "metadata": {},
   "outputs": [
    {
     "data": {
      "text/plain": [
       "<Axes: >"
      ]
     },
     "execution_count": 108,
     "metadata": {},
     "output_type": "execute_result"
    },
    {
     "data": {
      "image/png": "[encoded data removed]",
      "text/plain": [
       "<Figure size 640x480 with 1 Axes>"
      ]
     },
     "metadata": {},
     "output_type": "display_data"
    }
   ],
   "source": [
    "results_df = pd.DataFrame(results.values(), \n",
    "                          results.keys(), \n",
    "                          columns=['accuracy'])\n",
    "\n",
    "# Create a bar plot of the results dataframe using plot.bar()\n",
    "###\n",
    "results_df.plot.bar()"
   ]
  },
  {
   "cell_type": "code",
   "execution_count": 109,
   "id": "53ab7092",
   "metadata": {},
   "outputs": [
    {
     "name": "stdout",
     "output_type": "stream",
     "text": [
      "Fitting GridSearchCV for Logistic Regression...\n",
      "Best Parameters: {'model__C': 10, 'model__solver': 'liblinear'}\n",
      "Best Cross-validation Accuracy: 0.7991135624938442\n",
      "Test Accuracy: 0.8100558659217877\n"
     ]
    }
   ],
   "source": [
    "from sklearn.model_selection import GridSearchCV\n",
    "\n",
    "# Define parameter grid for Logistic Regression\n",
    "param_grid = {\n",
    "    \"model__C\": [0.01, 0.1, 1, 10, 100],   \n",
    "    \"model__solver\": [\"liblinear\", \"saga\"] \n",
    "}\n",
    "\n",
    "# Create pipeline with preprocessing + Logistic Regression\n",
    "logreg_pipeline = Pipeline(steps=[\n",
    "    (\"preprocessor\", preprocessor),\n",
    "    (\"model\", LogisticRegression(max_iter=500))\n",
    "])\n",
    "\n",
    "# Apply GridSearchCV\n",
    "grid_search = GridSearchCV(\n",
    "    estimator=logreg_pipeline,\n",
    "    param_grid=param_grid,\n",
    "    cv=5,               \n",
    "    scoring=\"accuracy\",   \n",
    "    n_jobs=-1          \n",
    ")\n",
    "\n",
    "print(\"Fitting GridSearchCV for Logistic Regression...\")\n",
    "grid_search.fit(X_train, y_train)\n",
    "\n",
    "\n",
    "print(\"Best Parameters:\", grid_search.best_params_)\n",
    "print(\"Best Cross-validation Accuracy:\", grid_search.best_score_)\n",
    "\n",
    "\n",
    "test_accuracy = grid_search.score(X_test, y_test)\n",
    "print(\"Test Accuracy:\", test_accuracy)\n"
   ]
  },
  {
   "cell_type": "code",
   "execution_count": 110,
   "id": "16c172dc",
   "metadata": {},
   "outputs": [
    {
     "name": "stdout",
     "output_type": "stream",
     "text": [
      "Test Accuracy: 0.8100558659217877\n",
      "              precision    recall  f1-score   support\n",
      "\n",
      "           0       0.83      0.86      0.84       105\n",
      "           1       0.79      0.74      0.76        74\n",
      "\n",
      "    accuracy                           0.81       179\n",
      "   macro avg       0.81      0.80      0.80       179\n",
      "weighted avg       0.81      0.81      0.81       179\n",
      "\n"
     ]
    }
   ],
   "source": [
    "from sklearn.metrics import accuracy_score, classification_report\n",
    "\n",
    "y_pred = grid_search.predict(X_test)\n",
    "print(\"Test Accuracy:\", accuracy_score(y_test, y_pred))\n",
    "print(classification_report(y_test, y_pred))\n"
   ]
  },
  {
   "cell_type": "code",
   "execution_count": 111,
   "id": "47fbecc9",
   "metadata": {},
   "outputs": [
    {
     "name": "stdout",
     "output_type": "stream",
     "text": [
      "✅ Submission file created: submission.csv\n"
     ]
    }
   ],
   "source": [
    "test_predictions = grid_search.predict(titanic_test)\n",
    "submission = pd.DataFrame({\n",
    "    \"PassengerId\": titanic_test[\"PassengerId\"],\n",
    "    \"Survived\": test_predictions\n",
    "})\n",
    "\n",
    "# 4. Save to CSV file\n",
    "submission.to_csv(\"submission.csv\", index=False)\n",
    "\n",
    "print(\"✅ Submission file created: submission.csv\")"
   ]
  },
  {
   "cell_type": "code",
   "execution_count": null,
   "id": "3b1698c0",
   "metadata": {},
   "outputs": [
    {
     "name": "stdout",
     "output_type": "stream",
     "text": [
      "Total Predicted Survivors: 162\n"
     ]
    }
   ],
   "source": [
    "\n",
    "# 1. Load the file\n",
    "df = pd.read_csv('submission.csv')\n",
    "\n",
    "# 2. Sum the 'Survived' column\n",
    "num_survivors = df['Survived'].sum()\n",
    "\n",
    "print(f\"Total Predicted Survivors: {num_survivors}\")"
   ]
  }
 ],
 "metadata": {
  "kernelspec": {
   "display_name": "titanic_env",
   "language": "python",
   "name": "python3"
  },
  "language_info": {
   "codemirror_mode": {
    "name": "ipython",
    "version": 3
   },
   "file_extension": ".py",
   "mimetype": "text/x-python",
   "name": "python",
   "nbconvert_exporter": "python",
   "pygments_lexer": "ipython3",
   "version": "3.13.5"
  }
 },
 "nbformat": 4,
 "nbformat_minor": 5
}
